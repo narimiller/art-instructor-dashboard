{
 "cells": [
  {
   "cell_type": "markdown",
   "metadata": {},
   "source": [
    "# Generate Fake Data"
   ]
  },
  {
   "cell_type": "code",
   "execution_count": 41,
   "metadata": {},
   "outputs": [],
   "source": [
    "import pandas as pd\n",
    "from faker import Faker\n",
    "import random\n",
    "from sdv.single_table import CTGANSynthesizer\n",
    "from sdv.metadata import SingleTableMetadata\n",
    "import os\n",
    "from datetime import timedelta"
   ]
  },
  {
   "cell_type": "code",
   "execution_count": null,
   "metadata": {},
   "outputs": [],
   "source": [
    "sample = pd.read_csv('sample_df.csv')\n",
    "sample = sample[sample['module'] != 'GC']\n",
    "sample = sample[sample['assignment'].str.contains(r'A0[0-9]+')]\n",
    "sample.head()"
   ]
  },
  {
   "cell_type": "code",
   "execution_count": 46,
   "metadata": {},
   "outputs": [
    {
     "data": {
      "text/plain": [
       "array(['A04', 'A02', 'A01', 'A03', 'A01b'], dtype=object)"
      ]
     },
     "execution_count": 46,
     "metadata": {},
     "output_type": "execute_result"
    }
   ],
   "source": [
    "sample['assignment'].unique()"
   ]
  },
  {
   "cell_type": "code",
   "execution_count": null,
   "metadata": {},
   "outputs": [],
   "source": [
    "sample['assignment_full'] = sample['module'] + '.' + sample['assignment']\n",
    "sample = sample.drop(['module', 'assignment'], axis=1)\n",
    "sample.head()"
   ]
  },
  {
   "cell_type": "code",
   "execution_count": 49,
   "metadata": {},
   "outputs": [
    {
     "name": "stderr",
     "output_type": "stream",
     "text": [
      "c:\\Users\\Laura\\miniconda3\\Lib\\site-packages\\sdv\\metadata\\single_table.py:673: UserWarning: There is an existing primary key 'filename'. This key will be removed.\n",
      "  warnings.warn(\n",
      "c:\\Users\\Laura\\miniconda3\\Lib\\site-packages\\sdv\\single_table\\base.py:84: UserWarning: We strongly recommend saving the metadata using 'save_to_json' for replicability in future SDV versions.\n",
      "  warnings.warn(\n"
     ]
    }
   ],
   "source": [
    "# train on sample data\n",
    "metadata = SingleTableMetadata()\n",
    "metadata.detect_from_dataframe(sample)\n",
    "metadata.set_primary_key(column_name='filename')\n",
    "\n",
    "model = CTGANSynthesizer(metadata)\n",
    "model.fit(sample)"
   ]
  },
  {
   "cell_type": "code",
   "execution_count": 50,
   "metadata": {},
   "outputs": [],
   "source": [
    "model.save(\"sdv-ctgan-uploads.pkl\")"
   ]
  },
  {
   "cell_type": "code",
   "execution_count": 51,
   "metadata": {},
   "outputs": [],
   "source": [
    "# generate fake data\n",
    "uploads = model.sample(num_rows=10000)"
   ]
  },
  {
   "cell_type": "code",
   "execution_count": 52,
   "metadata": {},
   "outputs": [
    {
     "data": {
      "text/html": [
       "<div>\n",
       "<style scoped>\n",
       "    .dataframe tbody tr th:only-of-type {\n",
       "        vertical-align: middle;\n",
       "    }\n",
       "\n",
       "    .dataframe tbody tr th {\n",
       "        vertical-align: top;\n",
       "    }\n",
       "\n",
       "    .dataframe thead th {\n",
       "        text-align: right;\n",
       "    }\n",
       "</style>\n",
       "<table border=\"1\" class=\"dataframe\">\n",
       "  <thead>\n",
       "    <tr style=\"text-align: right;\">\n",
       "      <th></th>\n",
       "      <th>username</th>\n",
       "      <th>datetime</th>\n",
       "      <th>identifier</th>\n",
       "      <th>filename</th>\n",
       "      <th>assignment_full</th>\n",
       "    </tr>\n",
       "  </thead>\n",
       "  <tbody>\n",
       "    <tr>\n",
       "      <th>0</th>\n",
       "      <td>mccoynicholas</td>\n",
       "      <td>2021/05/10 17:43:10</td>\n",
       "      <td>sdv-pii-ag5je</td>\n",
       "      <td>sdv-id-yaNmDU</td>\n",
       "      <td>08.A01</td>\n",
       "    </tr>\n",
       "    <tr>\n",
       "      <th>1</th>\n",
       "      <td>lhill</td>\n",
       "      <td>2020/10/15 23:30:47</td>\n",
       "      <td>sdv-pii-a6b43</td>\n",
       "      <td>sdv-id-VJCHOc</td>\n",
       "      <td>02.A01</td>\n",
       "    </tr>\n",
       "    <tr>\n",
       "      <th>2</th>\n",
       "      <td>bestmichelle</td>\n",
       "      <td>2023/10/28 08:27:07</td>\n",
       "      <td>sdv-pii-xo3rj</td>\n",
       "      <td>sdv-id-imywbe</td>\n",
       "      <td>05.A04</td>\n",
       "    </tr>\n",
       "    <tr>\n",
       "      <th>3</th>\n",
       "      <td>victorkim</td>\n",
       "      <td>2021/05/08 08:58:38</td>\n",
       "      <td>sdv-pii-p16ax</td>\n",
       "      <td>sdv-id-GMdjgm</td>\n",
       "      <td>05.A03</td>\n",
       "    </tr>\n",
       "    <tr>\n",
       "      <th>4</th>\n",
       "      <td>justinhughes</td>\n",
       "      <td>2021/05/06 05:53:55</td>\n",
       "      <td>sdv-pii-8lsj0</td>\n",
       "      <td>sdv-id-piRkmB</td>\n",
       "      <td>04.A01</td>\n",
       "    </tr>\n",
       "  </tbody>\n",
       "</table>\n",
       "</div>"
      ],
      "text/plain": [
       "        username             datetime     identifier       filename  \\\n",
       "0  mccoynicholas  2021/05/10 17:43:10  sdv-pii-ag5je  sdv-id-yaNmDU   \n",
       "1          lhill  2020/10/15 23:30:47  sdv-pii-a6b43  sdv-id-VJCHOc   \n",
       "2   bestmichelle  2023/10/28 08:27:07  sdv-pii-xo3rj  sdv-id-imywbe   \n",
       "3      victorkim  2021/05/08 08:58:38  sdv-pii-p16ax  sdv-id-GMdjgm   \n",
       "4   justinhughes  2021/05/06 05:53:55  sdv-pii-8lsj0  sdv-id-piRkmB   \n",
       "\n",
       "  assignment_full  \n",
       "0          08.A01  \n",
       "1          02.A01  \n",
       "2          05.A04  \n",
       "3          05.A03  \n",
       "4          04.A01  "
      ]
     },
     "execution_count": 52,
     "metadata": {},
     "output_type": "execute_result"
    }
   ],
   "source": [
    "# generate fake usernames\n",
    "fake = Faker()\n",
    "unique_usernames = {original: fake.user_name() for original in uploads['username'].unique()}\n",
    "uploads['username'] = uploads['username'].map(unique_usernames)\n",
    "\n",
    "uploads.head()"
   ]
  },
  {
   "cell_type": "code",
   "execution_count": 54,
   "metadata": {},
   "outputs": [
    {
     "data": {
      "text/html": [
       "<div>\n",
       "<style scoped>\n",
       "    .dataframe tbody tr th:only-of-type {\n",
       "        vertical-align: middle;\n",
       "    }\n",
       "\n",
       "    .dataframe tbody tr th {\n",
       "        vertical-align: top;\n",
       "    }\n",
       "\n",
       "    .dataframe thead th {\n",
       "        text-align: right;\n",
       "    }\n",
       "</style>\n",
       "<table border=\"1\" class=\"dataframe\">\n",
       "  <thead>\n",
       "    <tr style=\"text-align: right;\">\n",
       "      <th></th>\n",
       "      <th>username</th>\n",
       "      <th>datetime</th>\n",
       "      <th>identifier</th>\n",
       "      <th>filename</th>\n",
       "      <th>assignment_full</th>\n",
       "      <th>module</th>\n",
       "      <th>assignment</th>\n",
       "    </tr>\n",
       "  </thead>\n",
       "  <tbody>\n",
       "    <tr>\n",
       "      <th>0</th>\n",
       "      <td>mccoynicholas</td>\n",
       "      <td>2021/05/10 17:43:10</td>\n",
       "      <td>sdv-pii-ag5je</td>\n",
       "      <td>sdv-id-yaNmDU</td>\n",
       "      <td>08.A01</td>\n",
       "      <td>08</td>\n",
       "      <td>A01</td>\n",
       "    </tr>\n",
       "    <tr>\n",
       "      <th>1</th>\n",
       "      <td>lhill</td>\n",
       "      <td>2020/10/15 23:30:47</td>\n",
       "      <td>sdv-pii-a6b43</td>\n",
       "      <td>sdv-id-VJCHOc</td>\n",
       "      <td>02.A01</td>\n",
       "      <td>02</td>\n",
       "      <td>A01</td>\n",
       "    </tr>\n",
       "    <tr>\n",
       "      <th>2</th>\n",
       "      <td>bestmichelle</td>\n",
       "      <td>2023/10/28 08:27:07</td>\n",
       "      <td>sdv-pii-xo3rj</td>\n",
       "      <td>sdv-id-imywbe</td>\n",
       "      <td>05.A04</td>\n",
       "      <td>05</td>\n",
       "      <td>A04</td>\n",
       "    </tr>\n",
       "    <tr>\n",
       "      <th>3</th>\n",
       "      <td>victorkim</td>\n",
       "      <td>2021/05/08 08:58:38</td>\n",
       "      <td>sdv-pii-p16ax</td>\n",
       "      <td>sdv-id-GMdjgm</td>\n",
       "      <td>05.A03</td>\n",
       "      <td>05</td>\n",
       "      <td>A03</td>\n",
       "    </tr>\n",
       "    <tr>\n",
       "      <th>4</th>\n",
       "      <td>justinhughes</td>\n",
       "      <td>2021/05/06 05:53:55</td>\n",
       "      <td>sdv-pii-8lsj0</td>\n",
       "      <td>sdv-id-piRkmB</td>\n",
       "      <td>04.A01</td>\n",
       "      <td>04</td>\n",
       "      <td>A01</td>\n",
       "    </tr>\n",
       "  </tbody>\n",
       "</table>\n",
       "</div>"
      ],
      "text/plain": [
       "        username             datetime     identifier       filename  \\\n",
       "0  mccoynicholas  2021/05/10 17:43:10  sdv-pii-ag5je  sdv-id-yaNmDU   \n",
       "1          lhill  2020/10/15 23:30:47  sdv-pii-a6b43  sdv-id-VJCHOc   \n",
       "2   bestmichelle  2023/10/28 08:27:07  sdv-pii-xo3rj  sdv-id-imywbe   \n",
       "3      victorkim  2021/05/08 08:58:38  sdv-pii-p16ax  sdv-id-GMdjgm   \n",
       "4   justinhughes  2021/05/06 05:53:55  sdv-pii-8lsj0  sdv-id-piRkmB   \n",
       "\n",
       "  assignment_full module assignment  \n",
       "0          08.A01     08        A01  \n",
       "1          02.A01     02        A01  \n",
       "2          05.A04     05        A04  \n",
       "3          05.A03     05        A03  \n",
       "4          04.A01     04        A01  "
      ]
     },
     "execution_count": 54,
     "metadata": {},
     "output_type": "execute_result"
    }
   ],
   "source": [
    "uploads[['module', 'assignment']] = uploads['assignment_full'].str.split('.', expand=True)\n",
    "uploads.head()"
   ]
  },
  {
   "cell_type": "code",
   "execution_count": 56,
   "metadata": {},
   "outputs": [
    {
     "name": "stdout",
     "output_type": "stream",
     "text": [
      "{'C01': (Timestamp('2020-03-01 00:00:00'), Timestamp('2020-05-20 00:00:00')), 'C02': (Timestamp('2020-06-15 00:00:00'), Timestamp('2020-09-02 00:00:00')), 'C03': (Timestamp('2020-08-09 00:00:00'), Timestamp('2020-10-28 00:00:00')), 'C04': (Timestamp('2020-10-04 00:00:00'), Timestamp('2020-12-30 00:00:00')), 'C05': (Timestamp('2021-03-07 00:00:00'), Timestamp('2021-06-02 00:00:00')), 'C06': (Timestamp('2021-08-08 00:00:00'), Timestamp('2021-11-03 00:00:00')), 'C07': (Timestamp('2022-05-08 00:00:00'), Timestamp('2022-08-03 00:00:00')), 'C08': (Timestamp('2023-04-10 00:00:00'), Timestamp('2023-07-19 00:00:00')), 'C09': (Timestamp('2023-10-01 00:00:00'), Timestamp('2024-01-10 00:00:00')), 'C10': (Timestamp('2024-03-03 00:00:00'), Timestamp('2024-06-12 00:00:00'))}\n"
     ]
    }
   ],
   "source": [
    "cohorts = pd.read_csv('data/cohorts.csv')\n",
    "\n",
    "# Convert launch_start and term_end columns to datetime\n",
    "cohorts['launch_start_dt'] = pd.to_datetime(cohorts['Launch Start'], format='%b %d, %Y')\n",
    "cohorts['term_end_dt'] = pd.to_datetime(cohorts['Term End'], format='%b %d, %Y')\n",
    "cohorts = cohorts[cohorts['Cohort ID'] != 'C11']\n",
    "\n",
    "# Find terms and their corresponding start and end dates\n",
    "terms = {row['Cohort ID']: (row['launch_start_dt'], row['term_end_dt']) for _, row in cohorts.iterrows()}\n",
    "print(terms)"
   ]
  },
  {
   "cell_type": "code",
   "execution_count": 57,
   "metadata": {},
   "outputs": [
    {
     "name": "stdout",
     "output_type": "stream",
     "text": [
      "        username             datetime     identifier       filename  \\\n",
      "0  mccoynicholas  2022/05/09 00:00:11  sdv-pii-ag5je  sdv-id-yaNmDU   \n",
      "1          lhill  2023/10/09 00:00:53  sdv-pii-a6b43  sdv-id-VJCHOc   \n",
      "2   bestmichelle  2021/04/04 00:01:13  sdv-pii-xo3rj  sdv-id-imywbe   \n",
      "3      victorkim  2024/04/06 00:01:05  sdv-pii-p16ax  sdv-id-GMdjgm   \n",
      "4   justinhughes  2023/07/01 00:00:25  sdv-pii-8lsj0  sdv-id-piRkmB   \n",
      "\n",
      "  assignment_full module assignment  \n",
      "0          08.A01     08        A01  \n",
      "1          02.A01     02        A01  \n",
      "2          05.A04     05        A04  \n",
      "3          05.A03     05        A03  \n",
      "4          04.A01     04        A01  \n"
     ]
    }
   ],
   "source": [
    "# Restrict a subset of users to fewer terms\n",
    "usernames = uploads['username'].unique()\n",
    "subset_usernames = random.sample(list(usernames), int(len(usernames) * 0.5))\n",
    "user_term_mapping = {username: random.choice(list(terms.keys())) for username in usernames}\n",
    "\n",
    "# Function to generate a random date within a specified range\n",
    "def get_random_date(start_date, end_date):\n",
    "    date_range = (end_date - start_date).days\n",
    "    random_days = random.randint(0, date_range)\n",
    "    random_seconds = random.randint(0, date_range)\n",
    "    random_datetime = start_date + timedelta(days=random_days, seconds=random_seconds)\n",
    "    return random_datetime.strftime('%Y/%m/%d %H:%M:%S')\n",
    "\n",
    "uploads2 = uploads.copy()\n",
    "for username, term in user_term_mapping.items():\n",
    "    start_date, end_date = terms[term]\n",
    "    mask = uploads2['username'] == username\n",
    "    uploads2.loc[mask, 'datetime'] = uploads2.loc[mask, 'datetime'].apply(lambda x: get_random_date(start_date, end_date))\n",
    "\n",
    "print(uploads2.head())"
   ]
  },
  {
   "cell_type": "code",
   "execution_count": 58,
   "metadata": {},
   "outputs": [],
   "source": [
    "directory = 'data'\n",
    "file_path = os.path.join(directory, 'uploads.csv')\n",
    "uploads2.to_csv(file_path, index=False)"
   ]
  },
  {
   "cell_type": "code",
   "execution_count": null,
   "metadata": {},
   "outputs": [],
   "source": []
  }
 ],
 "metadata": {
  "kernelspec": {
   "display_name": "base",
   "language": "python",
   "name": "python3"
  },
  "language_info": {
   "codemirror_mode": {
    "name": "ipython",
    "version": 3
   },
   "file_extension": ".py",
   "mimetype": "text/x-python",
   "name": "python",
   "nbconvert_exporter": "python",
   "pygments_lexer": "ipython3",
   "version": "3.12.2"
  }
 },
 "nbformat": 4,
 "nbformat_minor": 2
}
