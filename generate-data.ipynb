{
 "cells": [
  {
   "cell_type": "markdown",
   "metadata": {},
   "source": [
    "# Generate Fake Data"
   ]
  },
  {
   "cell_type": "code",
   "execution_count": 9,
   "metadata": {},
   "outputs": [
    {
     "ename": "ModuleNotFoundError",
     "evalue": "No module named 'sdv.tabular'",
     "output_type": "error",
     "traceback": [
      "\u001b[1;31m---------------------------------------------------------------------------\u001b[0m",
      "\u001b[1;31mModuleNotFoundError\u001b[0m                       Traceback (most recent call last)",
      "Cell \u001b[1;32mIn[9], line 4\u001b[0m\n\u001b[0;32m      2\u001b[0m \u001b[38;5;28;01mfrom\u001b[39;00m \u001b[38;5;21;01mfaker\u001b[39;00m \u001b[38;5;28;01mimport\u001b[39;00m Faker\n\u001b[0;32m      3\u001b[0m \u001b[38;5;28;01mimport\u001b[39;00m \u001b[38;5;21;01mrandom\u001b[39;00m\n\u001b[1;32m----> 4\u001b[0m \u001b[38;5;28;01mfrom\u001b[39;00m \u001b[38;5;21;01msdv\u001b[39;00m\u001b[38;5;21;01m.\u001b[39;00m\u001b[38;5;21;01mtabular\u001b[39;00m \u001b[38;5;28;01mimport\u001b[39;00m CTGAN\n",
      "\u001b[1;31mModuleNotFoundError\u001b[0m: No module named 'sdv.tabular'"
     ]
    }
   ],
   "source": [
    "import pandas as pd\n",
    "from faker import Faker\n",
    "import random\n",
    "from sdv.tabular import CTGAN"
   ]
  },
  {
   "cell_type": "code",
   "execution_count": 7,
   "metadata": {},
   "outputs": [
    {
     "data": {
      "text/html": [
       "<div>\n",
       "<style scoped>\n",
       "    .dataframe tbody tr th:only-of-type {\n",
       "        vertical-align: middle;\n",
       "    }\n",
       "\n",
       "    .dataframe tbody tr th {\n",
       "        vertical-align: top;\n",
       "    }\n",
       "\n",
       "    .dataframe thead th {\n",
       "        text-align: right;\n",
       "    }\n",
       "</style>\n",
       "<table border=\"1\" class=\"dataframe\">\n",
       "  <thead>\n",
       "    <tr style=\"text-align: right;\">\n",
       "      <th></th>\n",
       "      <th>module</th>\n",
       "      <th>assignment</th>\n",
       "      <th>username</th>\n",
       "      <th>datetime</th>\n",
       "      <th>identifier</th>\n",
       "      <th>filename</th>\n",
       "    </tr>\n",
       "  </thead>\n",
       "  <tbody>\n",
       "    <tr>\n",
       "      <th>0</th>\n",
       "      <td>GC</td>\n",
       "      <td>01</td>\n",
       "      <td>provokingperch</td>\n",
       "      <td>2020/05/02 15:00:58</td>\n",
       "      <td>8vb</td>\n",
       "      <td>GC.01-provokingperch-2020-05-02_15-00-58-8vb.jpg</td>\n",
       "    </tr>\n",
       "    <tr>\n",
       "      <th>1</th>\n",
       "      <td>00</td>\n",
       "      <td>PP</td>\n",
       "      <td>kingdonna</td>\n",
       "      <td>2023/09/02 03:16:36</td>\n",
       "      <td>Ff5</td>\n",
       "      <td>00.PP-kingdonna-2023-09-02_03-16-36-Ff5.jpg</td>\n",
       "    </tr>\n",
       "    <tr>\n",
       "      <th>2</th>\n",
       "      <td>00</td>\n",
       "      <td>PP</td>\n",
       "      <td>kingdonna</td>\n",
       "      <td>2023/10/01 02:36:47</td>\n",
       "      <td>cJI</td>\n",
       "      <td>00.PP-kingdonna-2023-10-01_02-36-47-cJI.jpg</td>\n",
       "    </tr>\n",
       "    <tr>\n",
       "      <th>3</th>\n",
       "      <td>05</td>\n",
       "      <td>A04</td>\n",
       "      <td>effiek_</td>\n",
       "      <td>2023/12/11 10:51:09</td>\n",
       "      <td>Wd4</td>\n",
       "      <td>05.A04-effiek_-2023-12-11_10-51-09-Wd4.jpg</td>\n",
       "    </tr>\n",
       "    <tr>\n",
       "      <th>4</th>\n",
       "      <td>04</td>\n",
       "      <td>A02</td>\n",
       "      <td>wildart.roots</td>\n",
       "      <td>2022/06/29 03:07:55</td>\n",
       "      <td>sFo</td>\n",
       "      <td>04.A02-wildart.roots-2022-06-29_03-07-55-sFo.jpg</td>\n",
       "    </tr>\n",
       "  </tbody>\n",
       "</table>\n",
       "</div>"
      ],
      "text/plain": [
       "  module assignment        username             datetime identifier  \\\n",
       "0     GC         01  provokingperch  2020/05/02 15:00:58        8vb   \n",
       "1     00         PP       kingdonna  2023/09/02 03:16:36        Ff5   \n",
       "2     00         PP       kingdonna  2023/10/01 02:36:47        cJI   \n",
       "3     05        A04         effiek_  2023/12/11 10:51:09        Wd4   \n",
       "4     04        A02   wildart.roots  2022/06/29 03:07:55        sFo   \n",
       "\n",
       "                                           filename  \n",
       "0  GC.01-provokingperch-2020-05-02_15-00-58-8vb.jpg  \n",
       "1       00.PP-kingdonna-2023-09-02_03-16-36-Ff5.jpg  \n",
       "2       00.PP-kingdonna-2023-10-01_02-36-47-cJI.jpg  \n",
       "3        05.A04-effiek_-2023-12-11_10-51-09-Wd4.jpg  \n",
       "4  04.A02-wildart.roots-2022-06-29_03-07-55-sFo.jpg  "
      ]
     },
     "execution_count": 7,
     "metadata": {},
     "output_type": "execute_result"
    }
   ],
   "source": [
    "sample = pd.read_csv('sample_df.csv')\n",
    "sample.head()"
   ]
  },
  {
   "cell_type": "code",
   "execution_count": null,
   "metadata": {},
   "outputs": [],
   "source": [
    "fake = Faker()\n",
    "num_records = len(sample)\n",
    "\n",
    "# Define ranges and distributions for key columns\n",
    "cohort_ids = sample['module'].unique()\n",
    "term_names = sample['username'].unique()\n",
    "modules = sample['assignment'].unique()"
   ]
  },
  {
   "cell_type": "code",
   "execution_count": null,
   "metadata": {},
   "outputs": [],
   "source": [
    "model = CTGAN()\n",
    "\n",
    "model.fit(sample)"
   ]
  }
 ],
 "metadata": {
  "kernelspec": {
   "display_name": "base",
   "language": "python",
   "name": "python3"
  },
  "language_info": {
   "codemirror_mode": {
    "name": "ipython",
    "version": 3
   },
   "file_extension": ".py",
   "mimetype": "text/x-python",
   "name": "python",
   "nbconvert_exporter": "python",
   "pygments_lexer": "ipython3",
   "version": "3.12.2"
  }
 },
 "nbformat": 4,
 "nbformat_minor": 2
}
